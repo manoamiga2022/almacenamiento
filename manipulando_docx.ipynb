{
  "nbformat": 4,
  "nbformat_minor": 0,
  "metadata": {
    "colab": {
      "provenance": [],
      "collapsed_sections": [],
      "mount_file_id": "1cjdDPUcTN-AAwqITdu3dfDsDAHtrUGMZ",
      "authorship_tag": "ABX9TyOh/85wOnym5B3KTyLK7nMb",
      "include_colab_link": true
    },
    "kernelspec": {
      "name": "python3",
      "display_name": "Python 3"
    },
    "language_info": {
      "name": "python"
    }
  },
  "cells": [
    {
      "cell_type": "markdown",
      "metadata": {
        "id": "view-in-github",
        "colab_type": "text"
      },
      "source": [
        "<a href=\"https://colab.research.google.com/github/manoamiga2022/almacenamiento/blob/main/manipulando_docx.ipynb\" target=\"_parent\"><img src=\"https://colab.research.google.com/assets/colab-badge.svg\" alt=\"Open In Colab\"/></a>"
      ]
    },
    {
      "cell_type": "markdown",
      "source": [
        "Nota: para instalar una librería externa, se usa el comando !pip install librería. Para actualizar una libería, se usa el comando !pip install --upgrade librería.\n",
        "\n",
        "Se debe eliminar la línea que tiene lo siguiente import exceptions\n"
      ],
      "metadata": {
        "id": "6inqN6O2UqFa"
      }
    },
    {
      "cell_type": "code",
      "source": [
        "import docx\n"
      ],
      "metadata": {
        "id": "c5_zTrAnJmVp"
      },
      "execution_count": 27,
      "outputs": []
    }
  ]
}